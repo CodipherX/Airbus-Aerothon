{
 "cells": [
  {
   "cell_type": "code",
   "execution_count": 1,
   "metadata": {},
   "outputs": [],
   "source": [
    "from flask import Flask, redirect, url_for, request, jsonify\n",
    "import mysql.connector as mariadb\n",
    "import string \n",
    "import random"
   ]
  },
  {
   "cell_type": "code",
   "execution_count": 2,
   "metadata": {},
   "outputs": [],
   "source": [
    "mariadb_connection = mariadb.connect(user='exception_lab', password='exception', database='airbus')"
   ]
  },
  {
   "cell_type": "code",
   "execution_count": 3,
   "metadata": {},
   "outputs": [],
   "source": [
    "try:\n",
    "    del app\n",
    "except:\n",
    "    pass\n",
    "app = Flask(__name__)"
   ]
  },
  {
   "cell_type": "code",
   "execution_count": 4,
   "metadata": {},
   "outputs": [],
   "source": [
    "def create_session(uname, passwd):\n",
    "    cursor = mariadb_connection.cursor()\n",
    "    cursor.execute(\"SELECT id FROM users WHERE email=%s and hash_password=SHA1(%s)\", (uname,passwd))\n",
    "    c=0\n",
    "    user_id=0\n",
    "    for ids in cursor:\n",
    "        user_id = ids\n",
    "        c+=1\n",
    "    if c ==1:\n",
    "        token = ''.join(random.choices(string.ascii_uppercase + string.digits, k = 64)) \n",
    "        cursor.execute(\"INSERT INTO login (token,status,user_id) VALUES (%s,%s,%s)\", (token, 'active',user_id[0]))\n",
    "        mariadb_connection.commit()\n",
    "        return token,4\n",
    "    cursor.close()\n",
    "    return None,1\n",
    "\n",
    "def clear_session(token):\n",
    "    cursor = mariadb_connection.cursor()\n",
    "    cursor.execute(\"delete from login where token=%s\", (token,))\n",
    "    mariadb_connection.commit()\n",
    "    cursor.close()\n",
    "    \n",
    "def create_user(first_name,email,mobile,password,role):\n",
    "    try:\n",
    "        cursor = mariadb_connection.cursor()\n",
    "        cursor.execute(\"INSERT INTO users (first_name,email,mobile,hash_password,role) VALUES (%s,%s,%s,SHA1(%s),%s)\", (str(first_name),str(email),str(mobile),str(password),str(role)))\n",
    "        mariadb_connection.commit()\n",
    "        cursor.close()\n",
    "    except:\n",
    "        return False\n",
    "    return True"
   ]
  },
  {
   "cell_type": "code",
   "execution_count": 5,
   "metadata": {},
   "outputs": [],
   "source": [
    "@app.route('/logout',methods = ['POST'])\n",
    "def logout():\n",
    "    \n",
    "    try:\n",
    "        token = request.form['token']\n",
    "        clear_session(token)\n",
    "    except:\n",
    "        pass\n",
    "\n",
    "    finally:\n",
    "        return redirect(url_for('login'))\n",
    "\n",
    "    \n",
    "@app.route('/airport',methods = ['GET'])\n",
    "def airport():\n",
    "    l=[]\n",
    "    try:\n",
    "        cursor = mariadb_connection.cursor()\n",
    "        cursor.execute(\"SELECT id,airport_name, iata FROM airports\")\n",
    "        for id,airport_name,iata in cursor:\n",
    "            l.append(iata.decode()+\" \"+airport_name.decode())\n",
    "        cursor.close()\n",
    "    \n",
    "    except:\n",
    "        pass\n",
    "    return jsonify(\n",
    "            airports=l)\n",
    "\n",
    "\n",
    "@app.route('/add_flights',methods = ['POST'])\n",
    "def add():\n",
    "    l=[]\n",
    "    try:\n",
    "        flight_no=request.form['flight_no']\n",
    "        source_id=request.form['source_id']\n",
    "        dest_id=request.form['dest_id']\n",
    "        price=request.form['price']\n",
    "        seats = request.form['seats']\n",
    "        dep_time = request.form['dep_time']\n",
    "        arr_time = request.form['arr_time']\n",
    "        created_by = request.form['created_by']\n",
    "        status = add_flights(flight_no,source_id,dest_id,price,seats,dep_time,arr_time,created_by)\n",
    "    except:\n",
    "        pass\n",
    "    return jsonify(\n",
    "            airports=l)\n",
    "    \n",
    "\n",
    "@app.route('/find_flights',methods = ['GET'])\n",
    "def view():\n",
    "    l=[]\n",
    "    try:\n",
    "        src=request.form['src']\n",
    "        dest=request.form['dest']\n",
    "        date = request.form['date']\n",
    "        flag = findflights(src,dest,date)\n",
    "    except:\n",
    "        pass\n",
    "    return jsonify(\n",
    "            airports=l)\n",
    "    \n",
    "\n",
    "@app.route('/signup',methods = ['POST'])\n",
    "def signup():\n",
    "    try:\n",
    "        first_name=request.form['first_name']\n",
    "        email=request.form['email']\n",
    "        phone=request.form['phone']\n",
    "        passwd=request.form['pass']\n",
    "        role = request.form['role']\n",
    "        status = create_user(first_name,email,phone,password,role)\n",
    "        \n",
    "        if status:\n",
    "            return jsonify(\n",
    "            status=1\n",
    "        )\n",
    "    except:\n",
    "        pass\n",
    "    \n",
    "    return jsonify(\n",
    "            status=0)\n",
    "\n",
    "@app.route('/login',methods = ['POST', 'GET'])\n",
    "def login():\n",
    "    if request.method == 'POST':\n",
    "        try:\n",
    "            user = request.form['uname']\n",
    "            pwd = request.form['pass']\n",
    "        except:\n",
    "            return jsonify(\n",
    "            token=None,\n",
    "            status=3\n",
    "        )\n",
    "        \n",
    "        token, status = create_session(user,pwd)\n",
    "        \n",
    "        return jsonify(\n",
    "            token=token,\n",
    "            status=status\n",
    "        )\n",
    "    else:\n",
    "        try:\n",
    "            return jsonify(\n",
    "            token=token,\n",
    "            status=status\n",
    "            )\n",
    "        except:\n",
    "            return jsonify(\n",
    "            token=None,\n",
    "            status=-1\n",
    "        )"
   ]
  },
  {
   "cell_type": "code",
   "execution_count": 6,
   "metadata": {},
   "outputs": [],
   "source": [
    "@app.route(\"/airbus/hello\")\n",
    "def hello():\n",
    "    return \"Hello World\""
   ]
  },
  {
   "cell_type": "code",
   "execution_count": 7,
   "metadata": {},
   "outputs": [
    {
     "name": "stdout",
     "output_type": "stream",
     "text": [
      " * Serving Flask app \"__main__\" (lazy loading)\n",
      " * Environment: production\n",
      "   WARNING: This is a development server. Do not use it in a production deployment.\n",
      "   Use a production WSGI server instead.\n",
      " * Debug mode: off\n"
     ]
    },
    {
     "name": "stderr",
     "output_type": "stream",
     "text": [
      " * Running on http://0.0.0.0:8085/ (Press CTRL+C to quit)\n",
      "127.0.0.1 - - [08/Dec/2019 14:56:44] \"\u001b[37mGET /airport HTTP/1.1\u001b[0m\" 200 -\n"
     ]
    }
   ],
   "source": [
    "app.run(host='0.0.0.0', port=8085,debug=False)"
   ]
  },
  {
   "cell_type": "code",
   "execution_count": null,
   "metadata": {},
   "outputs": [],
   "source": []
  }
 ],
 "metadata": {
  "kernelspec": {
   "display_name": "Python 3",
   "language": "python",
   "name": "python3"
  },
  "language_info": {
   "codemirror_mode": {
    "name": "ipython",
    "version": 3
   },
   "file_extension": ".py",
   "mimetype": "text/x-python",
   "name": "python",
   "nbconvert_exporter": "python",
   "pygments_lexer": "ipython3",
   "version": "3.7.4"
  }
 },
 "nbformat": 4,
 "nbformat_minor": 2
}
